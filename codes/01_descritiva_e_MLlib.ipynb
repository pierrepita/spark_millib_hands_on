{
 "cells": [
  {
   "cell_type": "code",
   "execution_count": 185,
   "metadata": {},
   "outputs": [],
   "source": [
    "import pandas as pd\n",
    "from pyspark.sql import functions as F\n",
    "from pyspark.ml.feature import PCA\n",
    "from pyspark.ml.feature import OneHotEncoderEstimator, StringIndexer, VectorAssembler\n",
    "from pyspark.ml import Pipeline"
   ]
  },
  {
   "cell_type": "markdown",
   "metadata": {},
   "source": [
    "# Descritivas"
   ]
  },
  {
   "cell_type": "code",
   "execution_count": 198,
   "metadata": {},
   "outputs": [],
   "source": [
    "data = pd.read_csv('credit_aproval.txt')"
   ]
  },
  {
   "cell_type": "code",
   "execution_count": 230,
   "metadata": {},
   "outputs": [],
   "source": [
    "data_ = spark.read.csv('credit_aproval.txt', header=True)"
   ]
  },
  {
   "cell_type": "code",
   "execution_count": 231,
   "metadata": {},
   "outputs": [
    {
     "name": "stdout",
     "output_type": "stream",
     "text": [
      "+---+-----+------+---+---+---+---+-----+---+---+---+---+---+-----+-----+-----+\n",
      "| A1|   A2|    A3| A4| A5| A6| A7|   A8| A9|A10|A11|A12|A13|  A14|  A15|class|\n",
      "+---+-----+------+---+---+---+---+-----+---+---+---+---+---+-----+-----+-----+\n",
      "|  b|30.83|     0|  u|  g|  w|  v| 1.25|  t|  t| 01|  f|  g|00202|    0|    +|\n",
      "|  a|58.67|  4.46|  u|  g|  q|  h| 3.04|  t|  t| 06|  f|  g|00043|  560|    +|\n",
      "|  a|24.50|   0.5|  u|  g|  q|  h|  1.5|  t|  f|  0|  f|  g|00280|  824|    +|\n",
      "|  b|27.83|  1.54|  u|  g|  w|  v| 3.75|  t|  t| 05|  t|  g|00100|    3|    +|\n",
      "|  b|20.17| 5.625|  u|  g|  w|  v| 1.71|  t|  f|  0|  f|  s|00120|    0|    +|\n",
      "|  b|32.08|     4|  u|  g|  m|  v|  2.5|  t|  f|  0|  t|  g|00360|    0|    +|\n",
      "|  b|33.17|  1.04|  u|  g|  r|  h|  6.5|  t|  f|  0|  t|  g|00164|31285|    +|\n",
      "|  a|22.92|11.585|  u|  g| cc|  v| 0.04|  t|  f|  0|  f|  g|00080| 1349|    +|\n",
      "|  b|54.42|   0.5|  y|  p|  k|  h| 3.96|  t|  f|  0|  f|  g|00180|  314|    +|\n",
      "|  b|42.50| 4.915|  y|  p|  w|  v|3.165|  t|  f|  0|  t|  g|00052| 1442|    +|\n",
      "|  b|22.08|  0.83|  u|  g|  c|  h|2.165|  f|  f|  0|  t|  g|00128|    0|    +|\n",
      "|  b|29.92| 1.835|  u|  g|  c|  h|4.335|  t|  f|  0|  f|  g|00260|  200|    +|\n",
      "|  a|38.25|     6|  u|  g|  k|  v|    1|  t|  f|  0|  t|  g|00000|    0|    +|\n",
      "|  b|48.08|  6.04|  u|  g|  k|  v| 0.04|  f|  f|  0|  f|  g|00000| 2690|    +|\n",
      "|  a|45.83|  10.5|  u|  g|  q|  v|    5|  t|  t| 07|  t|  g|00000|    0|    +|\n",
      "|  b|36.67| 4.415|  y|  p|  k|  v| 0.25|  t|  t| 10|  t|  g|00320|    0|    +|\n",
      "|  b|28.25| 0.875|  u|  g|  m|  v| 0.96|  t|  t| 03|  t|  g|00396|    0|    +|\n",
      "|  a|23.25| 5.875|  u|  g|  q|  v| 3.17|  t|  t| 10|  f|  g|00120|  245|    +|\n",
      "|  b|21.83|  0.25|  u|  g|  d|  h|0.665|  t|  f|  0|  t|  g|00000|    0|    +|\n",
      "|  a|19.17| 8.585|  u|  g| cc|  h| 0.75|  t|  t| 07|  f|  g|00096|    0|    +|\n",
      "+---+-----+------+---+---+---+---+-----+---+---+---+---+---+-----+-----+-----+\n",
      "only showing top 20 rows\n",
      "\n"
     ]
    }
   ],
   "source": [
    "data_.show()"
   ]
  },
  {
   "cell_type": "markdown",
   "metadata": {},
   "source": [
    "#### Descritiva simples para atributos continuos"
   ]
  },
  {
   "cell_type": "code",
   "execution_count": 22,
   "metadata": {},
   "outputs": [
    {
     "name": "stdout",
     "output_type": "stream",
     "text": [
      "+-------+-----------------+\n",
      "|summary|               A2|\n",
      "+-------+-----------------+\n",
      "|  count|              678|\n",
      "|   mean|31.56817109144546|\n",
      "| stddev|11.95786249827088|\n",
      "|    min|            13.75|\n",
      "|    max|            80.25|\n",
      "+-------+-----------------+\n",
      "\n"
     ]
    }
   ],
   "source": [
    "data_.select(['A2']).describe().show()"
   ]
  },
  {
   "cell_type": "code",
   "execution_count": 21,
   "metadata": {},
   "outputs": [
    {
     "name": "stdout",
     "output_type": "stream",
     "text": [
      "+-------+-----------------+\n",
      "|summary|               A2|\n",
      "+-------+-----------------+\n",
      "|  count|              678|\n",
      "|   mean|31.56817109144546|\n",
      "| stddev|11.95786249827088|\n",
      "|    min|            13.75|\n",
      "|    25%|            22.58|\n",
      "|    50%|            28.42|\n",
      "|    75%|            38.25|\n",
      "|    max|            80.25|\n",
      "+-------+-----------------+\n",
      "\n"
     ]
    }
   ],
   "source": [
    "data_.select(['A2']).summary().show()"
   ]
  },
  {
   "cell_type": "code",
   "execution_count": 46,
   "metadata": {},
   "outputs": [
    {
     "name": "stdout",
     "output_type": "stream",
     "text": [
      "+-----------------+\n",
      "|     var_samp(A2)|\n",
      "+-----------------+\n",
      "|142.9904755275531|\n",
      "+-----------------+\n",
      "\n"
     ]
    }
   ],
   "source": [
    "# Variancia\n",
    "data_.agg(F.variance('A2')).show()"
   ]
  },
  {
   "cell_type": "markdown",
   "metadata": {},
   "source": [
    "#### Descritiva simples para atributos categóricos"
   ]
  },
  {
   "cell_type": "code",
   "execution_count": 48,
   "metadata": {
    "scrolled": true
   },
   "outputs": [
    {
     "name": "stdout",
     "output_type": "stream",
     "text": [
      "+----+-----+\n",
      "|  A1|count|\n",
      "+----+-----+\n",
      "|null|   12|\n",
      "|   b|  468|\n",
      "|   a|  210|\n",
      "+----+-----+\n",
      "\n"
     ]
    }
   ],
   "source": [
    "data_.groupby('A1').count().show()"
   ]
  },
  {
   "cell_type": "markdown",
   "metadata": {},
   "source": [
    "#### Analise de nulos"
   ]
  },
  {
   "cell_type": "code",
   "execution_count": 51,
   "metadata": {},
   "outputs": [
    {
     "data": {
      "text/plain": [
       "12"
      ]
     },
     "execution_count": 51,
     "metadata": {},
     "output_type": "execute_result"
    }
   ],
   "source": [
    "data_.filter(data_['A2'].isNull()).count()"
   ]
  },
  {
   "cell_type": "code",
   "execution_count": 52,
   "metadata": {},
   "outputs": [
    {
     "data": {
      "text/plain": [
       "678"
      ]
     },
     "execution_count": 52,
     "metadata": {},
     "output_type": "execute_result"
    }
   ],
   "source": [
    "data_.filter(data_['A2'].isNotNull()).count()"
   ]
  },
  {
   "cell_type": "markdown",
   "metadata": {},
   "source": [
    "#### Duplicados"
   ]
  },
  {
   "cell_type": "code",
   "execution_count": 154,
   "metadata": {},
   "outputs": [
    {
     "name": "stdout",
     "output_type": "stream",
     "text": [
      "690\n",
      "690\n",
      "529\n"
     ]
    }
   ],
   "source": [
    "# Todos os registros do dataset\n",
    "print data_.count()\n",
    "# Todos os registros únicos do dataset\n",
    "print data_.distinct().count()\n",
    "# Todos os registros únicos do dataset, \n",
    "# levando em consideração os atributos: 'A1', 'A2' e 'A5' \n",
    "print data_.select(['A1', 'A2', 'A5']).distinct().count()"
   ]
  },
  {
   "cell_type": "code",
   "execution_count": null,
   "metadata": {},
   "outputs": [],
   "source": []
  },
  {
   "cell_type": "markdown",
   "metadata": {},
   "source": [
    "#### Filtros"
   ]
  },
  {
   "cell_type": "code",
   "execution_count": 56,
   "metadata": {},
   "outputs": [
    {
     "name": "stdout",
     "output_type": "stream",
     "text": [
      "+---+-----+-----+---+---+---+---+----+---+---+---+---+---+-----+---+-----+\n",
      "| A1|   A2|   A3| A4| A5| A6| A7|  A8| A9|A10|A11|A12|A13|  A14|A15|class|\n",
      "+---+-----+-----+---+---+---+---+----+---+---+---+---+---+-----+---+-----+\n",
      "|  b|30.83|    0|  u|  g|  w|  v|1.25|  t|  t| 01|  f|  g|00202|  0|    +|\n",
      "|  a|58.67| 4.46|  u|  g|  q|  h|3.04|  t|  t| 06|  f|  g|00043|560|    +|\n",
      "|  a|24.50|  0.5|  u|  g|  q|  h| 1.5|  t|  f|  0|  f|  g|00280|824|    +|\n",
      "|  b|27.83| 1.54|  u|  g|  w|  v|3.75|  t|  t| 05|  t|  g|00100|  3|    +|\n",
      "|  b|20.17|5.625|  u|  g|  w|  v|1.71|  t|  f|  0|  f|  s|00120|  0|    +|\n",
      "+---+-----+-----+---+---+---+---+----+---+---+---+---+---+-----+---+-----+\n",
      "\n"
     ]
    }
   ],
   "source": [
    "data_.filter(data_['A2'] > 11).limit(5).show()"
   ]
  },
  {
   "cell_type": "code",
   "execution_count": 57,
   "metadata": {},
   "outputs": [
    {
     "name": "stdout",
     "output_type": "stream",
     "text": [
      "+---+-----+-----+-----+\n",
      "| A1|   A2|   A3|class|\n",
      "+---+-----+-----+-----+\n",
      "|  b|30.83|    0|    +|\n",
      "|  a|58.67| 4.46|    +|\n",
      "|  a|24.50|  0.5|    +|\n",
      "|  b|27.83| 1.54|    +|\n",
      "|  b|20.17|5.625|    +|\n",
      "+---+-----+-----+-----+\n",
      "\n"
     ]
    }
   ],
   "source": [
    "data_.select(['A1', 'A2', 'A3', 'class']).filter(data_['A2'] > 11).limit(5).show()"
   ]
  },
  {
   "cell_type": "markdown",
   "metadata": {},
   "source": [
    "# Preprocessamento"
   ]
  },
  {
   "cell_type": "markdown",
   "metadata": {},
   "source": [
    "#### Eliminação manual"
   ]
  },
  {
   "cell_type": "code",
   "execution_count": 106,
   "metadata": {
    "scrolled": true
   },
   "outputs": [
    {
     "name": "stdout",
     "output_type": "stream",
     "text": [
      "Tamanho do extrato: 523\n",
      "+---+-----+------+---+---+-----+\n",
      "| A1|   A2|    A3| A4| A5|class|\n",
      "+---+-----+------+---+---+-----+\n",
      "|  b|30.83|     0|  u|  g|    +|\n",
      "|  a|58.67|  4.46|  u|  g|    +|\n",
      "|  a|24.50|   0.5|  u|  g|    +|\n",
      "|  b|27.83|  1.54|  u|  g|    +|\n",
      "|  b|20.17| 5.625|  u|  g|    +|\n",
      "|  b|32.08|     4|  u|  g|    +|\n",
      "|  b|33.17|  1.04|  u|  g|    +|\n",
      "|  a|22.92|11.585|  u|  g|    +|\n",
      "|  b|22.08|  0.83|  u|  g|    +|\n",
      "|  b|29.92| 1.835|  u|  g|    +|\n",
      "|  a|38.25|     6|  u|  g|    +|\n",
      "|  b|48.08|  6.04|  u|  g|    +|\n",
      "|  a|45.83|  10.5|  u|  g|    +|\n",
      "|  b|28.25| 0.875|  u|  g|    +|\n",
      "|  a|23.25| 5.875|  u|  g|    +|\n",
      "|  b|21.83|  0.25|  u|  g|    +|\n",
      "|  a|19.17| 8.585|  u|  g|    +|\n",
      "|  b|25.00| 11.25|  u|  g|    +|\n",
      "|  b|23.25|     1|  u|  g|    +|\n",
      "|  a|47.75|     8|  u|  g|    +|\n",
      "+---+-----+------+---+---+-----+\n",
      "only showing top 20 rows\n",
      "\n"
     ]
    }
   ],
   "source": [
    "data_temp = data_.select(['A1', 'A2', 'A3', 'A4', 'A5','class'])\\\n",
    "            .filter((data_['A5']=='g') | (data_['A1']\\\n",
    "            .isNull()))\n",
    "print \"Tamanho do extrato: {}\".format(data_temp.count())\n",
    "data_temp.show()"
   ]
  },
  {
   "cell_type": "code",
   "execution_count": 110,
   "metadata": {
    "scrolled": true
   },
   "outputs": [
    {
     "name": "stdout",
     "output_type": "stream",
     "text": [
      "Quantidade de NAs no extrato: 12\n",
      "+----+-----+-----+---+---+-----+\n",
      "|  A1|   A2|   A3| A4| A5|class|\n",
      "+----+-----+-----+---+---+-----+\n",
      "|null|24.50|12.75|  u|  g|    +|\n",
      "|null|40.83|  3.5|  u|  g|    -|\n",
      "|null|32.25|  1.5|  u|  g|    -|\n",
      "|null|28.17|0.585|  u|  g|    -|\n",
      "|null|29.75|0.665|  u|  g|    -|\n",
      "|null|26.50| 2.71|  y|  p|    -|\n",
      "|null|45.33|    1|  u|  g|    -|\n",
      "|null|20.42|  7.5|  u|  g|    +|\n",
      "|null|20.08|0.125|  u|  g|    +|\n",
      "|null|42.25| 1.75|  y|  p|    -|\n",
      "|null|33.17| 2.25|  y|  p|    -|\n",
      "|null|29.50|    2|  y|  p|    -|\n",
      "+----+-----+-----+---+---+-----+\n",
      "\n"
     ]
    }
   ],
   "source": [
    "print \"Quantidade de NAs no extrato: {}\"\\\n",
    "    .format(data_temp.filter(data_temp['A1']\\\n",
    "    .isNull()).count())\n",
    "\n",
    "data_temp.filter(data_temp['A1']\\\n",
    "        .isNull()).show()"
   ]
  },
  {
   "cell_type": "code",
   "execution_count": 111,
   "metadata": {},
   "outputs": [
    {
     "data": {
      "text/plain": [
       "503"
      ]
     },
     "execution_count": 111,
     "metadata": {},
     "output_type": "execute_result"
    }
   ],
   "source": [
    "data_temp.dropna('any').count()"
   ]
  },
  {
   "cell_type": "markdown",
   "metadata": {},
   "source": [
    "#### Eliminação manual: excluindo colunas"
   ]
  },
  {
   "cell_type": "code",
   "execution_count": 113,
   "metadata": {},
   "outputs": [
    {
     "name": "stdout",
     "output_type": "stream",
     "text": [
      "+---+-----+------+---+---+-----+\n",
      "| A1|   A2|    A3| A4| A5|class|\n",
      "+---+-----+------+---+---+-----+\n",
      "|  b|30.83|     0|  u|  g|    +|\n",
      "|  a|58.67|  4.46|  u|  g|    +|\n",
      "|  a|24.50|   0.5|  u|  g|    +|\n",
      "|  b|27.83|  1.54|  u|  g|    +|\n",
      "|  b|20.17| 5.625|  u|  g|    +|\n",
      "|  b|32.08|     4|  u|  g|    +|\n",
      "|  b|33.17|  1.04|  u|  g|    +|\n",
      "|  a|22.92|11.585|  u|  g|    +|\n",
      "|  b|22.08|  0.83|  u|  g|    +|\n",
      "|  b|29.92| 1.835|  u|  g|    +|\n",
      "|  a|38.25|     6|  u|  g|    +|\n",
      "|  b|48.08|  6.04|  u|  g|    +|\n",
      "|  a|45.83|  10.5|  u|  g|    +|\n",
      "|  b|28.25| 0.875|  u|  g|    +|\n",
      "|  a|23.25| 5.875|  u|  g|    +|\n",
      "|  b|21.83|  0.25|  u|  g|    +|\n",
      "|  a|19.17| 8.585|  u|  g|    +|\n",
      "|  b|25.00| 11.25|  u|  g|    +|\n",
      "|  b|23.25|     1|  u|  g|    +|\n",
      "|  a|47.75|     8|  u|  g|    +|\n",
      "+---+-----+------+---+---+-----+\n",
      "only showing top 20 rows\n",
      "\n"
     ]
    }
   ],
   "source": [
    "data_temp.show()"
   ]
  },
  {
   "cell_type": "code",
   "execution_count": 119,
   "metadata": {},
   "outputs": [
    {
     "name": "stdout",
     "output_type": "stream",
     "text": [
      "+-----+------+-----+\n",
      "|   A2|    A3|class|\n",
      "+-----+------+-----+\n",
      "|30.83|     0|    +|\n",
      "|58.67|  4.46|    +|\n",
      "|24.50|   0.5|    +|\n",
      "|27.83|  1.54|    +|\n",
      "|20.17| 5.625|    +|\n",
      "|32.08|     4|    +|\n",
      "|33.17|  1.04|    +|\n",
      "|22.92|11.585|    +|\n",
      "|22.08|  0.83|    +|\n",
      "|29.92| 1.835|    +|\n",
      "|38.25|     6|    +|\n",
      "|48.08|  6.04|    +|\n",
      "|45.83|  10.5|    +|\n",
      "|28.25| 0.875|    +|\n",
      "|23.25| 5.875|    +|\n",
      "|21.83|  0.25|    +|\n",
      "|19.17| 8.585|    +|\n",
      "|25.00| 11.25|    +|\n",
      "|23.25|     1|    +|\n",
      "|47.75|     8|    +|\n",
      "+-----+------+-----+\n",
      "only showing top 20 rows\n",
      "\n"
     ]
    }
   ],
   "source": [
    "# Retirando as variaveis categóricas\n",
    "data_temp.drop(F.col('A1'))\\\n",
    "        .drop(F.col('A4'))\\\n",
    "        .drop(F.col('A5')).show()"
   ]
  },
  {
   "cell_type": "markdown",
   "metadata": {},
   "source": [
    "#### Sampling: Test and Training"
   ]
  },
  {
   "cell_type": "code",
   "execution_count": 132,
   "metadata": {},
   "outputs": [],
   "source": [
    "train = data_.sample(withReplacement=False, fraction=0.8, seed=27)"
   ]
  },
  {
   "cell_type": "code",
   "execution_count": 133,
   "metadata": {
    "scrolled": true
   },
   "outputs": [
    {
     "name": "stdout",
     "output_type": "stream",
     "text": [
      "567\n",
      "+---+-----+------+---+---+---+---+-----+---+---+---+---+---+-----+----+-----+\n",
      "| A1|   A2|    A3| A4| A5| A6| A7|   A8| A9|A10|A11|A12|A13|  A14| A15|class|\n",
      "+---+-----+------+---+---+---+---+-----+---+---+---+---+---+-----+----+-----+\n",
      "|  b|30.83|     0|  u|  g|  w|  v| 1.25|  t|  t| 01|  f|  g|00202|   0|    +|\n",
      "|  a|24.50|   0.5|  u|  g|  q|  h|  1.5|  t|  f|  0|  f|  g|00280| 824|    +|\n",
      "|  b|27.83|  1.54|  u|  g|  w|  v| 3.75|  t|  t| 05|  t|  g|00100|   3|    +|\n",
      "|  b|32.08|     4|  u|  g|  m|  v|  2.5|  t|  f|  0|  t|  g|00360|   0|    +|\n",
      "|  a|22.92|11.585|  u|  g| cc|  v| 0.04|  t|  f|  0|  f|  g|00080|1349|    +|\n",
      "|  b|54.42|   0.5|  y|  p|  k|  h| 3.96|  t|  f|  0|  f|  g|00180| 314|    +|\n",
      "|  b|42.50| 4.915|  y|  p|  w|  v|3.165|  t|  f|  0|  t|  g|00052|1442|    +|\n",
      "|  b|22.08|  0.83|  u|  g|  c|  h|2.165|  f|  f|  0|  t|  g|00128|   0|    +|\n",
      "|  a|38.25|     6|  u|  g|  k|  v|    1|  t|  f|  0|  t|  g|00000|   0|    +|\n",
      "|  b|48.08|  6.04|  u|  g|  k|  v| 0.04|  f|  f|  0|  f|  g|00000|2690|    +|\n",
      "+---+-----+------+---+---+---+---+-----+---+---+---+---+---+-----+----+-----+\n",
      "\n"
     ]
    }
   ],
   "source": [
    "print train.count()\n",
    "train.limit(10).show()"
   ]
  },
  {
   "cell_type": "code",
   "execution_count": 134,
   "metadata": {},
   "outputs": [],
   "source": [
    "test = data_.subtract(train)"
   ]
  },
  {
   "cell_type": "code",
   "execution_count": 135,
   "metadata": {},
   "outputs": [
    {
     "name": "stdout",
     "output_type": "stream",
     "text": [
      "123\n",
      "+---+-----+-----+---+---+---+---+-----+---+---+---+---+---+-----+----+-----+\n",
      "| A1|   A2|   A3| A4| A5| A6| A7|   A8| A9|A10|A11|A12|A13|  A14| A15|class|\n",
      "+---+-----+-----+---+---+---+---+-----+---+---+---+---+---+-----+----+-----+\n",
      "|  b|39.50|1.625|  u|  g|  c|  v|  1.5|  f|  f|  0|  f|  g|00000| 316|    -|\n",
      "|  b|28.25|5.125|  u|  g|  x|  v| 4.75|  t|  t| 02|  f|  g|00420|   7|    +|\n",
      "|  a|27.25| 0.29|  u|  g|  m|  h|0.125|  f|  t| 01|  t|  g|00272| 108|    -|\n",
      "|  b|23.08|    0|  u|  g|  k|  v|    1|  f|  t| 11|  f|  s|00000|   0|    -|\n",
      "|  b|29.92|1.835|  u|  g|  c|  h|4.335|  t|  f|  0|  f|  g|00260| 200|    +|\n",
      "|  b|34.08| 0.08|  y|  p|  m| bb| 0.04|  t|  t| 01|  t|  g|00280|2000|    +|\n",
      "|  b|34.92|    5|  u|  g|  x|  h|  7.5|  t|  t| 06|  t|  g|00000|1000|    +|\n",
      "|  b|19.17|  9.5|  u|  g|  w|  v|  1.5|  t|  f|  0|  f|  g|00120|2206|    +|\n",
      "|  a|27.67|  1.5|  u|  g|  m|  v|    2|  t|  f|  0|  f|  s|00368|   0|    -|\n",
      "|  b|33.17|3.165|  y|  p|  x|  v|3.165|  t|  t| 03|  t|  g|00380|   0|    +|\n",
      "+---+-----+-----+---+---+---+---+-----+---+---+---+---+---+-----+----+-----+\n",
      "\n"
     ]
    }
   ],
   "source": [
    "print test.count()\n",
    "test.limit(10).show()"
   ]
  },
  {
   "cell_type": "markdown",
   "metadata": {},
   "source": [
    "#### Balanceamento"
   ]
  },
  {
   "cell_type": "code",
   "execution_count": 136,
   "metadata": {},
   "outputs": [
    {
     "name": "stdout",
     "output_type": "stream",
     "text": [
      "+-----+-----+\n",
      "|class|count|\n",
      "+-----+-----+\n",
      "|    +|  307|\n",
      "|    -|  383|\n",
      "+-----+-----+\n",
      "\n"
     ]
    }
   ],
   "source": [
    "data_.groupby('class').count().show()"
   ]
  },
  {
   "cell_type": "code",
   "execution_count": 144,
   "metadata": {},
   "outputs": [],
   "source": [
    "data_positive = data_.filter(data_['class'] == '+')\\\n",
    "                .limit(300)\n",
    "\n",
    "data_negative = data_.filter(data_['class'] == '-')\\\n",
    "                .limit(300)\n",
    "\n",
    "balanced_data = data_positive.union(data_negative)"
   ]
  },
  {
   "cell_type": "code",
   "execution_count": 146,
   "metadata": {},
   "outputs": [
    {
     "name": "stdout",
     "output_type": "stream",
     "text": [
      "+-----+-----+\n",
      "|class|count|\n",
      "+-----+-----+\n",
      "|    +|  300|\n",
      "|    -|  300|\n",
      "+-----+-----+\n",
      "\n"
     ]
    }
   ],
   "source": [
    "balanced_data.groupby('class').count().show()"
   ]
  },
  {
   "cell_type": "markdown",
   "metadata": {},
   "source": [
    "#### Data Cleaning"
   ]
  },
  {
   "cell_type": "code",
   "execution_count": 148,
   "metadata": {},
   "outputs": [
    {
     "name": "stdout",
     "output_type": "stream",
     "text": [
      "690\n",
      "529\n"
     ]
    }
   ],
   "source": [
    "# Deduplicação\n",
    "print data_.count()\n",
    "\n",
    "print data_.drop_duplicates(subset=['A1', 'A2', 'A5']).count()"
   ]
  },
  {
   "cell_type": "code",
   "execution_count": 161,
   "metadata": {},
   "outputs": [
    {
     "name": "stdout",
     "output_type": "stream",
     "text": [
      "+--------+-----+------+---+---+---+---+-----+---+---+---+---+---+-----+-----+-----+\n",
      "|      A1|   A2|    A3| A4| A5| A6| A7|   A8| A9|A10|A11|A12|A13|  A14|  A15|class|\n",
      "+--------+-----+------+---+---+---+---+-----+---+---+---+---+---+-----+-----+-----+\n",
      "| class_b|30.83|     0|  u|  g|  w|  v| 1.25|  t|  t| 01|  f|  g|00202|    0|    +|\n",
      "|classe_a|58.67|  4.46|  u|  g|  q|  h| 3.04|  t|  t| 06|  f|  g|00043|  560|    +|\n",
      "|classe_a|24.50|   0.5|  u|  g|  q|  h|  1.5|  t|  f|  0|  f|  g|00280|  824|    +|\n",
      "| class_b|27.83|  1.54|  u|  g|  w|  v| 3.75|  t|  t| 05|  t|  g|00100|    3|    +|\n",
      "| class_b|20.17| 5.625|  u|  g|  w|  v| 1.71|  t|  f|  0|  f|  s|00120|    0|    +|\n",
      "| class_b|32.08|     4|  u|  g|  m|  v|  2.5|  t|  f|  0|  t|  g|00360|    0|    +|\n",
      "| class_b|33.17|  1.04|  u|  g|  r|  h|  6.5|  t|  f|  0|  t|  g|00164|31285|    +|\n",
      "|classe_a|22.92|11.585|  u|  g| cc|  v| 0.04|  t|  f|  0|  f|  g|00080| 1349|    +|\n",
      "| class_b|54.42|   0.5|  y|  p|  k|  h| 3.96|  t|  f|  0|  f|  g|00180|  314|    +|\n",
      "| class_b|42.50| 4.915|  y|  p|  w|  v|3.165|  t|  f|  0|  t|  g|00052| 1442|    +|\n",
      "| class_b|22.08|  0.83|  u|  g|  c|  h|2.165|  f|  f|  0|  t|  g|00128|    0|    +|\n",
      "| class_b|29.92| 1.835|  u|  g|  c|  h|4.335|  t|  f|  0|  f|  g|00260|  200|    +|\n",
      "|classe_a|38.25|     6|  u|  g|  k|  v|    1|  t|  f|  0|  t|  g|00000|    0|    +|\n",
      "| class_b|48.08|  6.04|  u|  g|  k|  v| 0.04|  f|  f|  0|  f|  g|00000| 2690|    +|\n",
      "|classe_a|45.83|  10.5|  u|  g|  q|  v|    5|  t|  t| 07|  t|  g|00000|    0|    +|\n",
      "| class_b|36.67| 4.415|  y|  p|  k|  v| 0.25|  t|  t| 10|  t|  g|00320|    0|    +|\n",
      "| class_b|28.25| 0.875|  u|  g|  m|  v| 0.96|  t|  t| 03|  t|  g|00396|    0|    +|\n",
      "|classe_a|23.25| 5.875|  u|  g|  q|  v| 3.17|  t|  t| 10|  f|  g|00120|  245|    +|\n",
      "| class_b|21.83|  0.25|  u|  g|  d|  h|0.665|  t|  f|  0|  t|  g|00000|    0|    +|\n",
      "|classe_a|19.17| 8.585|  u|  g| cc|  h| 0.75|  t|  t| 07|  f|  g|00096|    0|    +|\n",
      "+--------+-----+------+---+---+---+---+-----+---+---+---+---+---+-----+-----+-----+\n",
      "only showing top 20 rows\n",
      "\n"
     ]
    }
   ],
   "source": []
  },
  {
   "cell_type": "markdown",
   "metadata": {},
   "source": [
    "#### Transformação de dados"
   ]
  },
  {
   "cell_type": "code",
   "execution_count": 163,
   "metadata": {},
   "outputs": [
    {
     "name": "stdout",
     "output_type": "stream",
     "text": [
      "+---+-----+------+---+---+---+---+-----+---+---+---+---+---+-----+-----+-----+\n",
      "| A1|   A2|    A3| A4| A5| A6| A7|   A8| A9|A10|A11|A12|A13|  A14|  A15|class|\n",
      "+---+-----+------+---+---+---+---+-----+---+---+---+---+---+-----+-----+-----+\n",
      "|  b|30.83|     0|  u|  g|  w|  v| 1.25|  t|  t| 01|  f|  g|00202|    0|    +|\n",
      "|  a|58.67|  4.46|  u|  g|  q|  h| 3.04|  t|  t| 06|  f|  g|00043|  560|    +|\n",
      "|  a|24.50|   0.5|  u|  g|  q|  h|  1.5|  t|  f|  0|  f|  g|00280|  824|    +|\n",
      "|  b|27.83|  1.54|  u|  g|  w|  v| 3.75|  t|  t| 05|  t|  g|00100|    3|    +|\n",
      "|  b|20.17| 5.625|  u|  g|  w|  v| 1.71|  t|  f|  0|  f|  s|00120|    0|    +|\n",
      "|  b|32.08|     4|  u|  g|  m|  v|  2.5|  t|  f|  0|  t|  g|00360|    0|    +|\n",
      "|  b|33.17|  1.04|  u|  g|  r|  h|  6.5|  t|  f|  0|  t|  g|00164|31285|    +|\n",
      "|  a|22.92|11.585|  u|  g| cc|  v| 0.04|  t|  f|  0|  f|  g|00080| 1349|    +|\n",
      "|  b|54.42|   0.5|  y|  p|  k|  h| 3.96|  t|  f|  0|  f|  g|00180|  314|    +|\n",
      "|  b|42.50| 4.915|  y|  p|  w|  v|3.165|  t|  f|  0|  t|  g|00052| 1442|    +|\n",
      "+---+-----+------+---+---+---+---+-----+---+---+---+---+---+-----+-----+-----+\n",
      "\n"
     ]
    }
   ],
   "source": [
    "data_.limit(10).show()"
   ]
  },
  {
   "cell_type": "code",
   "execution_count": 164,
   "metadata": {},
   "outputs": [
    {
     "name": "stdout",
     "output_type": "stream",
     "text": [
      "+--------+-----+------+---+---+---+---+-----+---+---+---+---+---+-----+-----+-----+\n",
      "|      A1|   A2|    A3| A4| A5| A6| A7|   A8| A9|A10|A11|A12|A13|  A14|  A15|class|\n",
      "+--------+-----+------+---+---+---+---+-----+---+---+---+---+---+-----+-----+-----+\n",
      "| class_b|30.83|     0|  u|  g|  w|  v| 1.25|  t|  t| 01|  f|  g|00202|    0|    +|\n",
      "|classe_a|58.67|  4.46|  u|  g|  q|  h| 3.04|  t|  t| 06|  f|  g|00043|  560|    +|\n",
      "|classe_a|24.50|   0.5|  u|  g|  q|  h|  1.5|  t|  f|  0|  f|  g|00280|  824|    +|\n",
      "| class_b|27.83|  1.54|  u|  g|  w|  v| 3.75|  t|  t| 05|  t|  g|00100|    3|    +|\n",
      "| class_b|20.17| 5.625|  u|  g|  w|  v| 1.71|  t|  f|  0|  f|  s|00120|    0|    +|\n",
      "| class_b|32.08|     4|  u|  g|  m|  v|  2.5|  t|  f|  0|  t|  g|00360|    0|    +|\n",
      "| class_b|33.17|  1.04|  u|  g|  r|  h|  6.5|  t|  f|  0|  t|  g|00164|31285|    +|\n",
      "|classe_a|22.92|11.585|  u|  g| cc|  v| 0.04|  t|  f|  0|  f|  g|00080| 1349|    +|\n",
      "| class_b|54.42|   0.5|  y|  p|  k|  h| 3.96|  t|  f|  0|  f|  g|00180|  314|    +|\n",
      "| class_b|42.50| 4.915|  y|  p|  w|  v|3.165|  t|  f|  0|  t|  g|00052| 1442|    +|\n",
      "+--------+-----+------+---+---+---+---+-----+---+---+---+---+---+-----+-----+-----+\n",
      "\n"
     ]
    }
   ],
   "source": [
    "# Renomeando categorias\n",
    "data_.withColumn('A1', F.when(data_['A1'] == 'a', 'classe_a').otherwise('class_b'))\\\n",
    "      .limit(10)\\\n",
    "      .show()"
   ]
  },
  {
   "cell_type": "code",
   "execution_count": 176,
   "metadata": {},
   "outputs": [
    {
     "name": "stdout",
     "output_type": "stream",
     "text": [
      "+-------+------------------+\n",
      "|summary|                A3|\n",
      "+-------+------------------+\n",
      "|  count|               690|\n",
      "|   mean|4.7587246376811585|\n",
      "| stddev| 4.978163248528541|\n",
      "|    min|                 0|\n",
      "|    25%|               1.0|\n",
      "|    50%|              2.75|\n",
      "|    75%|              7.25|\n",
      "|    max|              9.96|\n",
      "+-------+------------------+\n",
      "\n",
      "+---+-----+-----+---+---+---+---+-----+---+---+---+---+---+-----+-----+-----+\n",
      "| A1|   A2|   A3| A4| A5| A6| A7|   A8| A9|A10|A11|A12|A13|  A14|  A15|class|\n",
      "+---+-----+-----+---+---+---+---+-----+---+---+---+---+---+-----+-----+-----+\n",
      "|  b|30.83|pobre|  u|  g|  w|  v| 1.25|  t|  t| 01|  f|  g|00202|    0|    +|\n",
      "|  a|58.67| rico|  u|  g|  q|  h| 3.04|  t|  t| 06|  f|  g|00043|  560|    +|\n",
      "|  a|24.50|pobre|  u|  g|  q|  h|  1.5|  t|  f|  0|  f|  g|00280|  824|    +|\n",
      "|  b|27.83|pobre|  u|  g|  w|  v| 3.75|  t|  t| 05|  t|  g|00100|    3|    +|\n",
      "|  b|20.17| rico|  u|  g|  w|  v| 1.71|  t|  f|  0|  f|  s|00120|    0|    +|\n",
      "|  b|32.08| rico|  u|  g|  m|  v|  2.5|  t|  f|  0|  t|  g|00360|    0|    +|\n",
      "|  b|33.17|pobre|  u|  g|  r|  h|  6.5|  t|  f|  0|  t|  g|00164|31285|    +|\n",
      "|  a|22.92| rico|  u|  g| cc|  v| 0.04|  t|  f|  0|  f|  g|00080| 1349|    +|\n",
      "|  b|54.42|pobre|  y|  p|  k|  h| 3.96|  t|  f|  0|  f|  g|00180|  314|    +|\n",
      "|  b|42.50| rico|  y|  p|  w|  v|3.165|  t|  f|  0|  t|  g|00052| 1442|    +|\n",
      "|  b|22.08|pobre|  u|  g|  c|  h|2.165|  f|  f|  0|  t|  g|00128|    0|    +|\n",
      "|  b|29.92|pobre|  u|  g|  c|  h|4.335|  t|  f|  0|  f|  g|00260|  200|    +|\n",
      "|  a|38.25| rico|  u|  g|  k|  v|    1|  t|  f|  0|  t|  g|00000|    0|    +|\n",
      "|  b|48.08| rico|  u|  g|  k|  v| 0.04|  f|  f|  0|  f|  g|00000| 2690|    +|\n",
      "|  a|45.83| rico|  u|  g|  q|  v|    5|  t|  t| 07|  t|  g|00000|    0|    +|\n",
      "|  b|36.67| rico|  y|  p|  k|  v| 0.25|  t|  t| 10|  t|  g|00320|    0|    +|\n",
      "|  b|28.25|pobre|  u|  g|  m|  v| 0.96|  t|  t| 03|  t|  g|00396|    0|    +|\n",
      "|  a|23.25| rico|  u|  g|  q|  v| 3.17|  t|  t| 10|  f|  g|00120|  245|    +|\n",
      "|  b|21.83|pobre|  u|  g|  d|  h|0.665|  t|  f|  0|  t|  g|00000|    0|    +|\n",
      "|  a|19.17| rico|  u|  g| cc|  h| 0.75|  t|  t| 07|  f|  g|00096|    0|    +|\n",
      "+---+-----+-----+---+---+---+---+-----+---+---+---+---+---+-----+-----+-----+\n",
      "only showing top 20 rows\n",
      "\n"
     ]
    }
   ],
   "source": [
    "# Vamos supor que 'A3' significa 'o numero de salarios'\n",
    "data_.select(['A3']).summary().show()\n",
    "# Categorizando variaveis\n",
    "data_.withColumn('A3', F.when(F.col('A3') <= 2.75, 'pobre').otherwise('rico')).show()"
   ]
  },
  {
   "cell_type": "markdown",
   "metadata": {},
   "source": [
    "# MLlib"
   ]
  },
  {
   "cell_type": "code",
   "execution_count": 232,
   "metadata": {},
   "outputs": [],
   "source": [
    "data_ = data_.withColumn('class', F.when(F.col('class') == '+', 1).otherwise(0))"
   ]
  },
  {
   "cell_type": "code",
   "execution_count": 233,
   "metadata": {},
   "outputs": [
    {
     "name": "stdout",
     "output_type": "stream",
     "text": [
      "+---+-----+------+---+---+---+---+-----+---+---+---+---+---+-----+-----+-----+\n",
      "| A1|   A2|    A3| A4| A5| A6| A7|   A8| A9|A10|A11|A12|A13|  A14|  A15|class|\n",
      "+---+-----+------+---+---+---+---+-----+---+---+---+---+---+-----+-----+-----+\n",
      "|  b|30.83|     0|  u|  g|  w|  v| 1.25|  t|  t| 01|  f|  g|00202|    0|    1|\n",
      "|  a|58.67|  4.46|  u|  g|  q|  h| 3.04|  t|  t| 06|  f|  g|00043|  560|    1|\n",
      "|  a|24.50|   0.5|  u|  g|  q|  h|  1.5|  t|  f|  0|  f|  g|00280|  824|    1|\n",
      "|  b|27.83|  1.54|  u|  g|  w|  v| 3.75|  t|  t| 05|  t|  g|00100|    3|    1|\n",
      "|  b|20.17| 5.625|  u|  g|  w|  v| 1.71|  t|  f|  0|  f|  s|00120|    0|    1|\n",
      "|  b|32.08|     4|  u|  g|  m|  v|  2.5|  t|  f|  0|  t|  g|00360|    0|    1|\n",
      "|  b|33.17|  1.04|  u|  g|  r|  h|  6.5|  t|  f|  0|  t|  g|00164|31285|    1|\n",
      "|  a|22.92|11.585|  u|  g| cc|  v| 0.04|  t|  f|  0|  f|  g|00080| 1349|    1|\n",
      "|  b|54.42|   0.5|  y|  p|  k|  h| 3.96|  t|  f|  0|  f|  g|00180|  314|    1|\n",
      "|  b|42.50| 4.915|  y|  p|  w|  v|3.165|  t|  f|  0|  t|  g|00052| 1442|    1|\n",
      "|  b|22.08|  0.83|  u|  g|  c|  h|2.165|  f|  f|  0|  t|  g|00128|    0|    1|\n",
      "|  b|29.92| 1.835|  u|  g|  c|  h|4.335|  t|  f|  0|  f|  g|00260|  200|    1|\n",
      "|  a|38.25|     6|  u|  g|  k|  v|    1|  t|  f|  0|  t|  g|00000|    0|    1|\n",
      "|  b|48.08|  6.04|  u|  g|  k|  v| 0.04|  f|  f|  0|  f|  g|00000| 2690|    1|\n",
      "|  a|45.83|  10.5|  u|  g|  q|  v|    5|  t|  t| 07|  t|  g|00000|    0|    1|\n",
      "|  b|36.67| 4.415|  y|  p|  k|  v| 0.25|  t|  t| 10|  t|  g|00320|    0|    1|\n",
      "|  b|28.25| 0.875|  u|  g|  m|  v| 0.96|  t|  t| 03|  t|  g|00396|    0|    1|\n",
      "|  a|23.25| 5.875|  u|  g|  q|  v| 3.17|  t|  t| 10|  f|  g|00120|  245|    1|\n",
      "|  b|21.83|  0.25|  u|  g|  d|  h|0.665|  t|  f|  0|  t|  g|00000|    0|    1|\n",
      "|  a|19.17| 8.585|  u|  g| cc|  h| 0.75|  t|  t| 07|  f|  g|00096|    0|    1|\n",
      "+---+-----+------+---+---+---+---+-----+---+---+---+---+---+-----+-----+-----+\n",
      "only showing top 20 rows\n",
      "\n"
     ]
    }
   ],
   "source": [
    "data_.show()"
   ]
  },
  {
   "cell_type": "code",
   "execution_count": 236,
   "metadata": {},
   "outputs": [
    {
     "name": "stdout",
     "output_type": "stream",
     "text": [
      "root\n",
      " |-- A1: string (nullable = true)\n",
      " |-- A2: string (nullable = true)\n",
      " |-- A3: string (nullable = true)\n",
      " |-- A4: string (nullable = true)\n",
      " |-- A5: string (nullable = true)\n",
      " |-- A6: string (nullable = true)\n",
      " |-- A7: string (nullable = true)\n",
      " |-- A8: string (nullable = true)\n",
      " |-- A9: string (nullable = true)\n",
      " |-- A10: string (nullable = true)\n",
      " |-- A11: string (nullable = true)\n",
      " |-- A12: string (nullable = true)\n",
      " |-- A13: string (nullable = true)\n",
      " |-- A14: string (nullable = true)\n",
      " |-- A15: string (nullable = true)\n",
      " |-- class: integer (nullable = false)\n",
      "\n"
     ]
    }
   ],
   "source": [
    "data_.printSchema()"
   ]
  },
  {
   "cell_type": "code",
   "execution_count": 237,
   "metadata": {},
   "outputs": [],
   "source": [
    "num_cols = ['A2', 'A3', 'A8', 'A11', 'A14', 'A15', 'class']\n",
    "data_ = data_.select(num_cols)\n",
    "data_ = data_.dropna('any')\n",
    "for col in num_cols:\n",
    "    data_ = data_.withColumn(col, data_[col].cast('float'))"
   ]
  },
  {
   "cell_type": "code",
   "execution_count": 238,
   "metadata": {},
   "outputs": [
    {
     "name": "stdout",
     "output_type": "stream",
     "text": [
      "root\n",
      " |-- A2: float (nullable = true)\n",
      " |-- A3: float (nullable = true)\n",
      " |-- A8: float (nullable = true)\n",
      " |-- A11: float (nullable = true)\n",
      " |-- A14: float (nullable = true)\n",
      " |-- A15: float (nullable = true)\n",
      " |-- class: float (nullable = false)\n",
      "\n"
     ]
    }
   ],
   "source": [
    "data_.printSchema()"
   ]
  },
  {
   "cell_type": "code",
   "execution_count": 239,
   "metadata": {},
   "outputs": [],
   "source": [
    "stages = []\n",
    "\n",
    "label_stringIdx = StringIndexer(inputCol = 'class', outputCol = 'label')\n",
    "stages += [label_stringIdx]\n",
    "assemblerInputs = ['A2', 'A3', 'A8', 'A11', 'A14', 'A15']\n",
    "\n",
    "assembler = VectorAssembler(inputCols=assemblerInputs, outputCol=\"features\")\n",
    "stages += [assembler]"
   ]
  },
  {
   "cell_type": "code",
   "execution_count": 240,
   "metadata": {},
   "outputs": [
    {
     "name": "stdout",
     "output_type": "stream",
     "text": [
      "root\n",
      " |-- label: double (nullable = false)\n",
      " |-- features: vector (nullable = true)\n",
      " |-- A2: float (nullable = true)\n",
      " |-- A3: float (nullable = true)\n",
      " |-- A8: float (nullable = true)\n",
      " |-- A11: float (nullable = true)\n",
      " |-- A14: float (nullable = true)\n",
      " |-- A15: float (nullable = true)\n",
      " |-- class: float (nullable = false)\n",
      "\n"
     ]
    }
   ],
   "source": [
    "cols = data_.columns\n",
    "\n",
    "pipeline = Pipeline(stages = stages)\n",
    "pipelineModel = pipeline.fit(data_)\n",
    "data_ = pipelineModel.transform(data_)\n",
    "selectedCols = ['label', 'features'] + cols\n",
    "data_ = data_.select(selectedCols)\n",
    "data_.printSchema()"
   ]
  },
  {
   "cell_type": "code",
   "execution_count": 241,
   "metadata": {},
   "outputs": [
    {
     "name": "stdout",
     "output_type": "stream",
     "text": [
      "Training Dataset Count: 456\n",
      "Test Dataset Count: 210\n"
     ]
    }
   ],
   "source": [
    "# Preparando pros modelos\n",
    "train, test = data_.randomSplit([0.7, 0.3], seed = 2019)\n",
    "print(\"Training Dataset Count: \" + str(train.count()))\n",
    "print(\"Test Dataset Count: \" + str(test.count()))"
   ]
  },
  {
   "cell_type": "markdown",
   "metadata": {},
   "source": [
    "## Logistic Regression Model"
   ]
  },
  {
   "cell_type": "code",
   "execution_count": 243,
   "metadata": {},
   "outputs": [],
   "source": [
    "from pyspark.ml.classification import LogisticRegression\n",
    "lr = LogisticRegression(featuresCol = 'features', labelCol = 'label', maxIter=10)\n",
    "lrModel = lr.fit(train)"
   ]
  },
  {
   "cell_type": "code",
   "execution_count": 245,
   "metadata": {},
   "outputs": [
    {
     "data": {
      "image/png": "[encoded data removed]",
      "text/plain": [
       "<Figure size 432x288 with 1 Axes>"
      ]
     },
     "metadata": {},
     "output_type": "display_data"
    }
   ],
   "source": [
    "#Beta coefficients\n",
    "import matplotlib.pyplot as plt\n",
    "import numpy as np\n",
    "beta = np.sort(lrModel.coefficients)\n",
    "plt.plot(beta)\n",
    "plt.ylabel('Beta Coefficients')\n",
    "plt.show()"
   ]
  },
  {
   "cell_type": "code",
   "execution_count": 246,
   "metadata": {},
   "outputs": [
    {
     "data": {
      "image/png": "[encoded data removed]",
      "text/plain": [
       "<Figure size 432x288 with 1 Axes>"
      ]
     },
     "metadata": {},
     "output_type": "display_data"
    },
    {
     "name": "stdout",
     "output_type": "stream",
     "text": [
      "Training set areaUnderROC: 0.846390392488\n"
     ]
    }
   ],
   "source": [
    "trainingSummary = lrModel.summary\n",
    "roc = trainingSummary.roc.toPandas()\n",
    "plt.plot(roc['FPR'],roc['TPR'])\n",
    "plt.ylabel('False Positive Rate')\n",
    "plt.xlabel('True Positive Rate')\n",
    "plt.title('ROC Curve')\n",
    "plt.show()\n",
    "print('Training set areaUnderROC: ' + str(trainingSummary.areaUnderROC))"
   ]
  },
  {
   "cell_type": "code",
   "execution_count": 247,
   "metadata": {},
   "outputs": [
    {
     "data": {
      "image/png": "[encoded data removed]",
      "text/plain": [
       "<Figure size 432x288 with 1 Axes>"
      ]
     },
     "metadata": {},
     "output_type": "display_data"
    }
   ],
   "source": [
    "pr = trainingSummary.pr.toPandas()\n",
    "plt.plot(pr['recall'],pr['precision'])\n",
    "plt.ylabel('Precision')\n",
    "plt.xlabel('Recall')\n",
    "plt.show()"
   ]
  },
  {
   "cell_type": "code",
   "execution_count": 256,
   "metadata": {},
   "outputs": [
    {
     "name": "stdout",
     "output_type": "stream",
     "text": [
      "+-----+------+-----+----+-----+-----+-----+--------------------+----------+--------------------+\n",
      "|   A2|    A3|   A8| A11|  A14|  A15|label|       rawPrediction|prediction|         probability|\n",
      "+-----+------+-----+----+-----+-----+-----+--------------------+----------+--------------------+\n",
      "|21.08|   5.0|  0.0| 0.0|  0.0|  0.0|  0.0|[1.33635588037100...|       0.0|[0.79189002853626...|\n",
      "|48.75|26.335|  0.0| 0.0|  0.0|  0.0|  0.0|[0.97248293469536...|       0.0|[0.72561412261378...|\n",
      "| 16.0| 0.165|  1.0| 2.0|320.0|  1.0|  0.0|[0.72851526956972...|       0.0|[0.67447937418588...|\n",
      "| 16.0| 3.125|0.085| 1.0|  0.0|  6.0|  0.0|[0.96231534983313...|       0.0|[0.72358513716823...|\n",
      "|16.25|   0.0| 0.25| 0.0| 60.0|  0.0|  0.0|[1.41996379692949...|       0.0|[0.80533274084638...|\n",
      "|16.33|  2.75|0.665| 1.0| 80.0| 21.0|  0.0|[0.88506509685611...|       0.0|[0.70787073296978...|\n",
      "|16.92| 0.335| 0.29| 0.0|200.0|  0.0|  0.0|[1.53929959911382...|       0.0|[0.82336288447538...|\n",
      "|17.08|  3.29|0.335| 0.0|140.0|  2.0|  0.0|[1.40087733897673...|       0.0|[0.80232307209522...|\n",
      "|17.33|   9.5| 1.75|10.0|  0.0| 10.0|  0.0|[-2.9343015021267...|       1.0|[0.05048373273998...|\n",
      "|17.42|   6.5|0.125| 0.0| 60.0|100.0|  0.0|[1.25035742758333...|       0.0|[0.77736172746785...|\n",
      "+-----+------+-----+----+-----+-----+-----+--------------------+----------+--------------------+\n",
      "only showing top 10 rows\n",
      "\n"
     ]
    }
   ],
   "source": [
    "# Fazendo predições usando nossa base de teste.\n",
    "# ['A2', 'A3', 'A8', 'A11', 'A14', 'A15', 'class']\n",
    "predictions = lrModel.transform(test)\n",
    "predictions.select('A2', 'A3', 'A8', 'A11', 'A14', 'A15', 'label', 'rawPrediction', 'prediction', 'probability').show(10)"
   ]
  },
  {
   "cell_type": "code",
   "execution_count": 251,
   "metadata": {},
   "outputs": [
    {
     "name": "stdout",
     "output_type": "stream",
     "text": [
      "('Test Area Under ROC', 0.8141120117907157)\n"
     ]
    }
   ],
   "source": [
    "# Avaliando modelos\n",
    "from pyspark.ml.evaluation import BinaryClassificationEvaluator\n",
    "evaluator = BinaryClassificationEvaluator()\n",
    "print('Test Area Under ROC', evaluator.evaluate(predictions))"
   ]
  },
  {
   "cell_type": "markdown",
   "metadata": {},
   "source": [
    "## Decision Tree Classifier"
   ]
  },
  {
   "cell_type": "code",
   "execution_count": 255,
   "metadata": {},
   "outputs": [
    {
     "name": "stdout",
     "output_type": "stream",
     "text": [
      "+-----+------+-----+----+-----+-----+-----+-------------+----------+--------------------+\n",
      "|   A2|    A3|   A8| A11|  A14|  A15|label|rawPrediction|prediction|         probability|\n",
      "+-----+------+-----+----+-----+-----+-----+-------------+----------+--------------------+\n",
      "|21.08|   5.0|  0.0| 0.0|  0.0|  0.0|  0.0| [161.0,34.0]|       0.0|[0.82564102564102...|\n",
      "|48.75|26.335|  0.0| 0.0|  0.0|  0.0|  0.0| [161.0,34.0]|       0.0|[0.82564102564102...|\n",
      "| 16.0| 0.165|  1.0| 2.0|320.0|  1.0|  0.0| [161.0,34.0]|       0.0|[0.82564102564102...|\n",
      "| 16.0| 3.125|0.085| 1.0|  0.0|  6.0|  0.0| [161.0,34.0]|       0.0|[0.82564102564102...|\n",
      "|16.25|   0.0| 0.25| 0.0| 60.0|  0.0|  0.0| [161.0,34.0]|       0.0|[0.82564102564102...|\n",
      "|16.33|  2.75|0.665| 1.0| 80.0| 21.0|  0.0| [161.0,34.0]|       0.0|[0.82564102564102...|\n",
      "|16.92| 0.335| 0.29| 0.0|200.0|  0.0|  0.0| [161.0,34.0]|       0.0|[0.82564102564102...|\n",
      "|17.08|  3.29|0.335| 0.0|140.0|  2.0|  0.0| [161.0,34.0]|       0.0|[0.82564102564102...|\n",
      "|17.33|   9.5| 1.75|10.0|  0.0| 10.0|  0.0|   [3.0,84.0]|       1.0|[0.03448275862068...|\n",
      "|17.42|   6.5|0.125| 0.0| 60.0|100.0|  0.0| [161.0,34.0]|       0.0|[0.82564102564102...|\n",
      "+-----+------+-----+----+-----+-----+-----+-------------+----------+--------------------+\n",
      "only showing top 10 rows\n",
      "\n"
     ]
    }
   ],
   "source": [
    "from pyspark.ml.classification import DecisionTreeClassifier\n",
    "# ['A2', 'A3', 'A8', 'A11', 'A14', 'A15', 'class']\n",
    "dt = DecisionTreeClassifier(featuresCol = 'features', labelCol = 'label', maxDepth = 3)\n",
    "dtModel = dt.fit(train)\n",
    "predictions = dtModel.transform(test)\n",
    "predictions.select('A2', 'A3', 'A8', 'A11', 'A14', 'A15', 'label', 'rawPrediction', 'prediction', 'probability').show(10)"
   ]
  },
  {
   "cell_type": "code",
   "execution_count": 253,
   "metadata": {},
   "outputs": [
    {
     "name": "stdout",
     "output_type": "stream",
     "text": [
      "Test Area Under ROC: 0.659036477524\n"
     ]
    }
   ],
   "source": [
    "# Avaliando modelo\n",
    "evaluator = BinaryClassificationEvaluator()\n",
    "print(\"Test Area Under ROC: \" + str(evaluator.evaluate(predictions, {evaluator.metricName: \"areaUnderROC\"})))"
   ]
  },
  {
   "cell_type": "markdown",
   "metadata": {},
   "source": [
    "## Random Forest Classifier"
   ]
  },
  {
   "cell_type": "code",
   "execution_count": 254,
   "metadata": {},
   "outputs": [
    {
     "name": "stdout",
     "output_type": "stream",
     "text": [
      "+-----+------+-----+----+-----+-----+-----+--------------------+----------+--------------------+\n",
      "|   A2|    A3|   A8| A11|  A14|  A15|label|       rawPrediction|prediction|         probability|\n",
      "+-----+------+-----+----+-----+-----+-----+--------------------+----------+--------------------+\n",
      "|21.08|   5.0|  0.0| 0.0|  0.0|  0.0|  0.0|[16.6320873982832...|       0.0|[0.83160436991416...|\n",
      "|48.75|26.335|  0.0| 0.0|  0.0|  0.0|  0.0|[16.5117698713092...|       0.0|[0.82558849356546...|\n",
      "| 16.0| 0.165|  1.0| 2.0|320.0|  1.0|  0.0|[13.9225089050802...|       0.0|[0.69612544525401...|\n",
      "| 16.0| 3.125|0.085| 1.0|  0.0|  6.0|  0.0|[17.6099009410417...|       0.0|[0.88049504705208...|\n",
      "|16.25|   0.0| 0.25| 0.0| 60.0|  0.0|  0.0|[17.8272672681758...|       0.0|[0.89136336340879...|\n",
      "|16.33|  2.75|0.665| 1.0| 80.0| 21.0|  0.0|[15.2777458163194...|       0.0|[0.76388729081597...|\n",
      "|16.92| 0.335| 0.29| 0.0|200.0|  0.0|  0.0|[17.9574953166553...|       0.0|[0.89787476583276...|\n",
      "|17.08|  3.29|0.335| 0.0|140.0|  2.0|  0.0|[17.8346329427704...|       0.0|[0.89173164713852...|\n",
      "|17.33|   9.5| 1.75|10.0|  0.0| 10.0|  0.0|[8.23277648408761...|       1.0|[0.41163882420438...|\n",
      "|17.42|   6.5|0.125| 0.0| 60.0|100.0|  0.0|[16.6780401719160...|       0.0|[0.83390200859580...|\n",
      "+-----+------+-----+----+-----+-----+-----+--------------------+----------+--------------------+\n",
      "only showing top 10 rows\n",
      "\n"
     ]
    }
   ],
   "source": [
    "from pyspark.ml.classification import RandomForestClassifier\n",
    "# ['A2', 'A3', 'A8', 'A11', 'A14', 'A15', 'class']\n",
    "rf = RandomForestClassifier(featuresCol = 'features', labelCol = 'label')\n",
    "rfModel = rf.fit(train)\n",
    "predictions = rfModel.transform(test)\n",
    "predictions.select('A2', 'A3', 'A8', 'A11', 'A14', 'A15', 'label', 'rawPrediction', 'prediction', 'probability').show(10)"
   ]
  },
  {
   "cell_type": "code",
   "execution_count": 257,
   "metadata": {},
   "outputs": [
    {
     "name": "stdout",
     "output_type": "stream",
     "text": [
      "Test Area Under ROC: 0.814112011791\n"
     ]
    }
   ],
   "source": [
    "# Avaliando modelo\n",
    "evaluator = BinaryClassificationEvaluator()\n",
    "print(\"Test Area Under ROC: \" + str(evaluator.evaluate(predictions, {evaluator.metricName: \"areaUnderROC\"})))"
   ]
  },
  {
   "cell_type": "markdown",
   "metadata": {},
   "source": [
    "## Gradient-Boosted Tree Classifier"
   ]
  },
  {
   "cell_type": "code",
   "execution_count": 259,
   "metadata": {},
   "outputs": [
    {
     "name": "stdout",
     "output_type": "stream",
     "text": [
      "+-----+------+-----+----+-----+-----+-----+--------------------+----------+--------------------+\n",
      "|   A2|    A3|   A8| A11|  A14|  A15|label|       rawPrediction|prediction|         probability|\n",
      "+-----+------+-----+----+-----+-----+-----+--------------------+----------+--------------------+\n",
      "|21.08|   5.0|  0.0| 0.0|  0.0|  0.0|  0.0|[1.04442315481501...|       0.0|[0.88981436319902...|\n",
      "|48.75|26.335|  0.0| 0.0|  0.0|  0.0|  0.0|[1.22649248019565...|       0.0|[0.92077946135336...|\n",
      "| 16.0| 0.165|  1.0| 2.0|320.0|  1.0|  0.0|[0.97080019918231...|       0.0|[0.87452785869475...|\n",
      "| 16.0| 3.125|0.085| 1.0|  0.0|  6.0|  0.0|[0.89575366664370...|       0.0|[0.85711198057398...|\n",
      "|16.25|   0.0| 0.25| 0.0| 60.0|  0.0|  0.0|[0.91251024153792...|       0.0|[0.86116745538780...|\n",
      "|16.33|  2.75|0.665| 1.0| 80.0| 21.0|  0.0|[0.27945542937092...|       0.0|[0.63620049657739...|\n",
      "|16.92| 0.335| 0.29| 0.0|200.0|  0.0|  0.0|[1.03724522630746...|       0.0|[0.88839895009919...|\n",
      "|17.08|  3.29|0.335| 0.0|140.0|  2.0|  0.0|[1.05240702543024...|       0.0|[0.89137019930258...|\n",
      "|17.33|   9.5| 1.75|10.0|  0.0| 10.0|  0.0|[-1.1434791290024...|       1.0|[0.09220884750435...|\n",
      "|17.42|   6.5|0.125| 0.0| 60.0|100.0|  0.0|[0.91601431974954...|       0.0|[0.86200321820322...|\n",
      "+-----+------+-----+----+-----+-----+-----+--------------------+----------+--------------------+\n",
      "only showing top 10 rows\n",
      "\n"
     ]
    }
   ],
   "source": [
    "from pyspark.ml.classification import GBTClassifier\n",
    "gbt = GBTClassifier(maxIter=10)\n",
    "gbtModel = gbt.fit(train)\n",
    "predictions = gbtModel.transform(test)\n",
    "predictions.select('A2', 'A3', 'A8', 'A11', 'A14', 'A15', 'label', 'rawPrediction', 'prediction', 'probability').show(10)"
   ]
  },
  {
   "cell_type": "code",
   "execution_count": 260,
   "metadata": {},
   "outputs": [
    {
     "name": "stdout",
     "output_type": "stream",
     "text": [
      "Test Area Under ROC: 0.799511790715\n"
     ]
    }
   ],
   "source": [
    "# Avaliando modelo\n",
    "evaluator = BinaryClassificationEvaluator()\n",
    "print(\"Test Area Under ROC: \" + str(evaluator.evaluate(predictions, {evaluator.metricName: \"areaUnderROC\"})))"
   ]
  },
  {
   "cell_type": "code",
   "execution_count": 261,
   "metadata": {},
   "outputs": [
    {
     "name": "stdout",
     "output_type": "stream",
     "text": [
      "cacheNodeIds: If false, the algorithm will pass trees to executors to match instances with nodes. If true, the algorithm will cache node IDs for each instance. Caching can speed up training of deeper trees. Users can set how often should the cache be checkpointed or disable it by setting checkpointInterval. (default: False)\n",
      "checkpointInterval: set checkpoint interval (>= 1) or disable checkpoint (-1). E.g. 10 means that the cache will get checkpointed every 10 iterations. Note: this setting will be ignored if the checkpoint directory is not set in the SparkContext. (default: 10)\n",
      "featureSubsetStrategy: The number of features to consider for splits at each tree node. Supported options: 'auto' (choose automatically for task: If numTrees == 1, set to 'all'. If numTrees > 1 (forest), set to 'sqrt' for classification and to 'onethird' for regression), 'all' (use all features), 'onethird' (use 1/3 of the features), 'sqrt' (use sqrt(number of features)), 'log2' (use log2(number of features)), 'n' (when n is in the range (0, 1.0], use n * number of features. When n is in the range (1, number of features), use n features). default = 'auto' (default: all)\n",
      "featuresCol: features column name. (default: features)\n",
      "labelCol: label column name. (default: label)\n",
      "lossType: Loss function which GBT tries to minimize (case-insensitive). Supported options: logistic (default: logistic)\n",
      "maxBins: Max number of bins for discretizing continuous features.  Must be >=2 and >= number of categories for any categorical feature. (default: 32)\n",
      "maxDepth: Maximum depth of the tree. (>= 0) E.g., depth 0 means 1 leaf node; depth 1 means 1 internal node + 2 leaf nodes. (default: 5)\n",
      "maxIter: max number of iterations (>= 0). (default: 20, current: 10)\n",
      "maxMemoryInMB: Maximum memory in MB allocated to histogram aggregation. If too small, then 1 node will be split per iteration, and its aggregates may exceed this size. (default: 256)\n",
      "minInfoGain: Minimum information gain for a split to be considered at a tree node. (default: 0.0)\n",
      "minInstancesPerNode: Minimum number of instances each child must have after split. If a split causes the left or right child to have fewer than minInstancesPerNode, the split will be discarded as invalid. Should be >= 1. (default: 1)\n",
      "predictionCol: prediction column name. (default: prediction)\n",
      "seed: random seed. (default: 2857134701650851239)\n",
      "stepSize: Step size (a.k.a. learning rate) in interval (0, 1] for shrinking the contribution of each estimator. (default: 0.1)\n",
      "subsamplingRate: Fraction of the training data used for learning each decision tree, in range (0, 1]. (default: 1.0)\n"
     ]
    }
   ],
   "source": [
    "print(gbt.explainParams())"
   ]
  },
  {
   "cell_type": "code",
   "execution_count": 262,
   "metadata": {},
   "outputs": [
    {
     "data": {
      "text/plain": [
       "0.8319362564480468"
      ]
     },
     "execution_count": 262,
     "metadata": {},
     "output_type": "execute_result"
    }
   ],
   "source": [
    "from pyspark.ml.tuning import ParamGridBuilder, CrossValidator\n",
    "paramGrid = (ParamGridBuilder()\n",
    "             .addGrid(gbt.maxDepth, [2, 4, 6])\n",
    "             .addGrid(gbt.maxBins, [20, 60])\n",
    "             .addGrid(gbt.maxIter, [10, 20])\n",
    "             .build())\n",
    "cv = CrossValidator(estimator=gbt, estimatorParamMaps=paramGrid, evaluator=evaluator, numFolds=5)\n",
    "# Run cross validations.  This can take about 6 minutes since it is training over 20 trees!\n",
    "cvModel = cv.fit(train)\n",
    "predictions = cvModel.transform(test)\n",
    "evaluator.evaluate(predictions)"
   ]
  },
  {
   "cell_type": "code",
   "execution_count": null,
   "metadata": {},
   "outputs": [],
   "source": []
  }
 ],
 "metadata": {
  "kernelspec": {
   "display_name": "Python 2",
   "language": "python",
   "name": "python2"
  },
  "language_info": {
   "codemirror_mode": {
    "name": "ipython",
    "version": 2
   },
   "file_extension": ".py",
   "mimetype": "text/x-python",
   "name": "python",
   "nbconvert_exporter": "python",
   "pygments_lexer": "ipython2",
   "version": "2.7.15"
  }
 },
 "nbformat": 4,
 "nbformat_minor": 2
}
